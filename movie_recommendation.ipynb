{
 "cells": [
  {
   "cell_type": "code",
   "execution_count": null,
   "id": "968b964f",
   "metadata": {},
   "outputs": [],
   "source": [
    "# import libraries\n",
    "import numpy as np\n",
    "import pandas as pd"
   ]
  },
  {
   "cell_type": "code",
   "execution_count": null,
   "id": "78754755",
   "metadata": {},
   "outputs": [],
   "source": [
    "# Load the credits and movies datasets\n",
    "credits=pd.read_csv(\"./data/tmdb_5000_credits.csv\")\n",
    "movies=pd.read_csv(\"./data/tmdb_5000_movies.csv\")"
   ]
  },
  {
   "cell_type": "code",
   "execution_count": null,
   "id": "ff1c46e0",
   "metadata": {},
   "outputs": [],
   "source": [
    "movies.head()"
   ]
  },
  {
   "cell_type": "code",
   "execution_count": null,
   "id": "86e6de5c",
   "metadata": {},
   "outputs": [],
   "source": [
    "movies.dtypes"
   ]
  },
  {
   "cell_type": "code",
   "execution_count": null,
   "id": "dab468ab",
   "metadata": {},
   "outputs": [],
   "source": [
    "credits.head(1)"
   ]
  },
  {
   "cell_type": "code",
   "execution_count": null,
   "id": "3a9ebdb5",
   "metadata": {
    "scrolled": true
   },
   "outputs": [],
   "source": [
    "credits['crew']"
   ]
  },
  {
   "cell_type": "code",
   "execution_count": null,
   "id": "7a35b193",
   "metadata": {},
   "outputs": [],
   "source": [
    "credits.dtypes"
   ]
  },
  {
   "cell_type": "code",
   "execution_count": null,
   "id": "aa5df650",
   "metadata": {},
   "outputs": [],
   "source": [
    "movies = movies.merge(credits,on='title')"
   ]
  },
  {
   "cell_type": "code",
   "execution_count": null,
   "id": "b0e7ec97",
   "metadata": {},
   "outputs": [],
   "source": [
    "movies.shape"
   ]
  },
  {
   "cell_type": "code",
   "execution_count": null,
   "id": "84fc89e0",
   "metadata": {},
   "outputs": [],
   "source": [
    "movies.head()"
   ]
  },
  {
   "cell_type": "code",
   "execution_count": null,
   "id": "6beee2e3",
   "metadata": {},
   "outputs": [],
   "source": [
    "#genres\n",
    "#id\n",
    "#title\n",
    "#overview(most import according to content)\n",
    "#cast\n",
    "#crew\n",
    "movies = movies[['movie_id','title','overview','genres','keywords','cast','crew']]"
   ]
  },
  {
   "cell_type": "code",
   "execution_count": null,
   "id": "86aa36bf",
   "metadata": {},
   "outputs": [],
   "source": [
    "movies.isnull().sum()"
   ]
  },
  {
   "cell_type": "code",
   "execution_count": null,
   "id": "c2c2d823",
   "metadata": {},
   "outputs": [],
   "source": [
    "#as overview is most important column and if we have missing values, either we have to manually enter values or drop them.so i am dropping this\n",
    "\n",
    "movies.dropna(inplace=True)"
   ]
  },
  {
   "cell_type": "code",
   "execution_count": null,
   "id": "f3d4be64",
   "metadata": {},
   "outputs": [],
   "source": [
    "movies.isnull().sum()"
   ]
  },
  {
   "cell_type": "code",
   "execution_count": null,
   "id": "aa424386",
   "metadata": {},
   "outputs": [],
   "source": [
    "movies.duplicated().sum()"
   ]
  },
  {
   "cell_type": "code",
   "execution_count": null,
   "id": "6a8a57bf",
   "metadata": {},
   "outputs": [],
   "source": [
    "movies['genres']"
   ]
  },
  {
   "cell_type": "code",
   "execution_count": null,
   "id": "b54d2889",
   "metadata": {},
   "outputs": [],
   "source": [
    "movies.iloc[0].genres"
   ]
  },
  {
   "cell_type": "code",
   "execution_count": null,
   "id": "a51f23db",
   "metadata": {},
   "outputs": [],
   "source": [
    "import ast # used to convert string in to list\n",
    "\n",
    "def convert(obj):\n",
    "    L =[]\n",
    "    for i in ast.literal_eval(obj):\n",
    "        L.append(i['name'])\n",
    "    return L"
   ]
  },
  {
   "cell_type": "code",
   "execution_count": null,
   "id": "c2fb3f7a",
   "metadata": {},
   "outputs": [],
   "source": [
    "movies['genres']=movies['genres'].apply(convert) #convert function is applied to each row of genres column\n"
   ]
  },
  {
   "cell_type": "code",
   "execution_count": null,
   "id": "fc083de7",
   "metadata": {
    "scrolled": true
   },
   "outputs": [],
   "source": [
    "movies.head()"
   ]
  },
  {
   "cell_type": "code",
   "execution_count": null,
   "id": "5dc23ca7",
   "metadata": {},
   "outputs": [],
   "source": [
    "movies['keywords'] = movies['keywords'].apply(convert)\n",
    "movies.head()"
   ]
  },
  {
   "cell_type": "code",
   "execution_count": null,
   "id": "2ebc9977",
   "metadata": {},
   "outputs": [],
   "source": [
    "movies.iloc[0].cast"
   ]
  },
  {
   "cell_type": "code",
   "execution_count": null,
   "id": "eea7de60",
   "metadata": {},
   "outputs": [],
   "source": [
    "# function to extract the first three actors from the 'cast' column\n",
    "def actor(obj):\n",
    "    L =[]\n",
    "    counter=0\n",
    "    for i in ast.literal_eval(obj):\n",
    "        if counter !=3:\n",
    "            L.append(i['name'])\n",
    "            counter+=1\n",
    "        else:\n",
    "            break\n",
    "    return L"
   ]
  },
  {
   "cell_type": "code",
   "execution_count": null,
   "id": "e03fd0a1",
   "metadata": {},
   "outputs": [],
   "source": [
    "movies['cast']=movies['cast'].apply(actor)"
   ]
  },
  {
   "cell_type": "code",
   "execution_count": null,
   "id": "75d8bc95",
   "metadata": {},
   "outputs": [],
   "source": [
    "movies.head()"
   ]
  },
  {
   "cell_type": "code",
   "execution_count": null,
   "id": "8355e83a",
   "metadata": {},
   "outputs": [],
   "source": [
    "movies.iloc[0].crew"
   ]
  },
  {
   "cell_type": "code",
   "execution_count": null,
   "id": "ad0f6dfd",
   "metadata": {},
   "outputs": [],
   "source": [
    "# function to fetch the director from the 'crew' column\n",
    "def fetch_director(obj):\n",
    "    L =[]\n",
    "    for i in ast.literal_eval(obj):\n",
    "        if i['job'] =='Director':\n",
    "            L.append(i['name'])\n",
    "            break\n",
    "    return L"
   ]
  },
  {
   "cell_type": "code",
   "execution_count": null,
   "id": "1f8e7084",
   "metadata": {},
   "outputs": [],
   "source": [
    "movies['crew']=movies['crew'].apply(fetch_director)"
   ]
  },
  {
   "cell_type": "code",
   "execution_count": null,
   "id": "608d357f",
   "metadata": {},
   "outputs": [],
   "source": [
    "movies['crew'].isnull().sum()"
   ]
  },
  {
   "cell_type": "code",
   "execution_count": null,
   "id": "2f0a5f16",
   "metadata": {},
   "outputs": [],
   "source": [
    "movies.head()"
   ]
  },
  {
   "cell_type": "code",
   "execution_count": null,
   "id": "413fc2b8",
   "metadata": {},
   "outputs": [],
   "source": [
    "movies['overview'][0]"
   ]
  },
  {
   "cell_type": "code",
   "execution_count": null,
   "id": "dfe16f16",
   "metadata": {},
   "outputs": [],
   "source": [
    "# tokenize the 'overview' column because we have to convert the string to list\n",
    "movies['overview']=movies['overview'].apply(lambda x:x.split()) # string to list"
   ]
  },
  {
   "cell_type": "code",
   "execution_count": null,
   "id": "0643d678",
   "metadata": {},
   "outputs": [],
   "source": [
    "movies.head()"
   ]
  },
  {
   "cell_type": "code",
   "execution_count": null,
   "id": "eb35ca4b",
   "metadata": {},
   "outputs": [],
   "source": [
    "# remove spaces from the genre, cast, and crew lists\n",
    "movies['genres']=movies['genres'].apply(lambda x:[i.replace(\" \",\"\") for i in x])\n",
    "movies['cast']=movies['cast'].apply(lambda x:[i.replace(\" \",\"\") for i in x])\n",
    "movies['crew']=movies['crew'].apply(lambda x:[i.replace(\" \",\"\") for i in x])"
   ]
  },
  {
   "cell_type": "code",
   "execution_count": null,
   "id": "ddc2ac08",
   "metadata": {},
   "outputs": [],
   "source": [
    "movies.head()"
   ]
  },
  {
   "cell_type": "code",
   "execution_count": null,
   "id": "2c1bccff",
   "metadata": {},
   "outputs": [],
   "source": [
    "movies['tags'] = movies['overview'] + movies['genres'] + movies['keywords'] + movies['cast'] + movies['crew']\n"
   ]
  },
  {
   "cell_type": "code",
   "execution_count": null,
   "id": "d5f7deb1",
   "metadata": {},
   "outputs": [],
   "source": [
    "movies.head()"
   ]
  },
  {
   "cell_type": "code",
   "execution_count": null,
   "id": "5c98a9a0",
   "metadata": {},
   "outputs": [],
   "source": [
    "new_df=movies[['movie_id','title','tags']]"
   ]
  },
  {
   "cell_type": "code",
   "execution_count": null,
   "id": "0589d202",
   "metadata": {
    "scrolled": true
   },
   "outputs": [],
   "source": [
    "new_df['tags']=new_df['tags'].apply(lambda x:\" \".join(x))  # use \" \".join to convert list to string with spaces"
   ]
  },
  {
   "cell_type": "code",
   "execution_count": null,
   "id": "cbb07138",
   "metadata": {},
   "outputs": [],
   "source": [
    "import nltk\n",
    "from nltk.stem.porter import PorterStemmer\n",
    "ps=PorterStemmer()"
   ]
  },
  {
   "cell_type": "code",
   "execution_count": null,
   "id": "34e7b663",
   "metadata": {},
   "outputs": [],
   "source": [
    "# a function to apply stemming to text, why? because we have to convert the words to their root form\n",
    "def stem(text):\n",
    "    y=[]\n",
    "    \n",
    "    for i in text.split(): # so we will stem every word in the list\n",
    "        y.append(ps.stem(i))\n",
    "    return \" \".join(y)"
   ]
  },
  {
   "cell_type": "code",
   "execution_count": null,
   "id": "2d67f1cf",
   "metadata": {},
   "outputs": [],
   "source": [
    "# apply stemming to the 'tags' column\n",
    "new_df['tags']=new_df['tags'].apply(stem)"
   ]
  },
  {
   "cell_type": "code",
   "execution_count": null,
   "id": "557acf5f",
   "metadata": {},
   "outputs": [],
   "source": [
    "new_df['tags'][0]"
   ]
  },
  {
   "cell_type": "code",
   "execution_count": null,
   "id": "100f5335",
   "metadata": {},
   "outputs": [],
   "source": [
    "# convert text to lowercase in the 'tags' column\n",
    "new_df['tags']=new_df['tags'].apply(lambda x :x.lower())"
   ]
  },
  {
   "cell_type": "code",
   "execution_count": null,
   "id": "20f14f5a",
   "metadata": {},
   "outputs": [],
   "source": [
    "new_df['tags'][0]"
   ]
  },
  {
   "cell_type": "code",
   "execution_count": null,
   "id": "c123aac4",
   "metadata": {},
   "outputs": [],
   "source": [
    "new_df['tags'][1]"
   ]
  },
  {
   "cell_type": "code",
   "execution_count": null,
   "id": "856b5505",
   "metadata": {},
   "outputs": [],
   "source": [
    "# Text Vectorization\n",
    "\n",
    "# so now we have to convert tags in to vector and then all movie will become a vector.so total 45000 vectors will be there.\n",
    "# so to recommend , we have to select the closest vectors\n",
    "# I am using bag of words for now\n",
    "# remove stopwords"
   ]
  },
  {
   "cell_type": "code",
   "execution_count": null,
   "id": "7e16f357",
   "metadata": {},
   "outputs": [],
   "source": [
    "from sklearn.feature_extraction.text import CountVectorizer\n",
    "cv=CountVectorizer(max_features=5000,stop_words='english')"
   ]
  },
  {
   "cell_type": "code",
   "execution_count": null,
   "id": "4d0cac1d",
   "metadata": {},
   "outputs": [],
   "source": [
    "vectors=cv.fit_transform(new_df['tags']).toarray()"
   ]
  },
  {
   "cell_type": "code",
   "execution_count": null,
   "id": "7fbc8cfe",
   "metadata": {},
   "outputs": [],
   "source": [
    "vectors.shape"
   ]
  },
  {
   "cell_type": "code",
   "execution_count": null,
   "id": "492230cf",
   "metadata": {},
   "outputs": [],
   "source": [
    "vectors[0] # so many zero because we have 5000 words and our tag has not that much words"
   ]
  },
  {
   "cell_type": "code",
   "execution_count": null,
   "id": "374f9e18",
   "metadata": {},
   "outputs": [],
   "source": [
    "cv.get_feature_names_out()# now we have problem with same words like accept ,accepted,acceptence,accepts .we need to apply stemming."
   ]
  },
  {
   "cell_type": "code",
   "execution_count": null,
   "id": "0171b2f8",
   "metadata": {},
   "outputs": [],
   "source": [
    "# what stemming will do that ['loved','loving','love']=> will get output as ['love','love','love']\n",
    "# after that we have to find cosine distance"
   ]
  },
  {
   "cell_type": "code",
   "execution_count": null,
   "id": "64c00e79",
   "metadata": {},
   "outputs": [],
   "source": [
    "# calculate cosine similarity between vectors\n",
    "from sklearn.metrics.pairwise import cosine_similarity # it is between 0 and 1"
   ]
  },
  {
   "cell_type": "code",
   "execution_count": null,
   "id": "6e3a566e",
   "metadata": {},
   "outputs": [],
   "source": [
    "vectors #every row of the array has 5000 columns"
   ]
  },
  {
   "cell_type": "code",
   "execution_count": null,
   "id": "55981a41",
   "metadata": {},
   "outputs": [],
   "source": [
    "# calculate cosine similarity matrix\n",
    "similarity=cosine_similarity(vectors)"
   ]
  },
  {
   "cell_type": "code",
   "execution_count": null,
   "id": "75119938",
   "metadata": {},
   "outputs": [],
   "source": [
    "similarity.shape "
   ]
  },
  {
   "cell_type": "code",
   "execution_count": null,
   "id": "6b12f8e3",
   "metadata": {},
   "outputs": [],
   "source": [
    "similarity"
   ]
  },
  {
   "cell_type": "code",
   "execution_count": null,
   "id": "907fcf10",
   "metadata": {
    "scrolled": true
   },
   "outputs": [],
   "source": [
    "sorted(list(enumerate(similarity[0])),reverse=True,key = lambda x: x[1])[1:6]"
   ]
  },
  {
   "cell_type": "code",
   "execution_count": null,
   "id": "56b5d5d4",
   "metadata": {},
   "outputs": [],
   "source": [
    "index = new_df[new_df['title'] == 'Avatar'].index[0]\n",
    "\n",
    "distances = sorted(list(enumerate(similarity[index])),reverse=True,key = lambda x: x[1])"
   ]
  },
  {
   "cell_type": "code",
   "execution_count": null,
   "id": "c9c9fbf0",
   "metadata": {},
   "outputs": [],
   "source": [
    "distances"
   ]
  },
  {
   "cell_type": "code",
   "execution_count": null,
   "id": "afb750ef",
   "metadata": {},
   "outputs": [],
   "source": [
    "# a function to recommend similar movies\n",
    "def recommend(movie):\n",
    "    index = new_df[new_df['title'] == movie].index[0]\n",
    "    distances = sorted(list(enumerate(similarity[index])),reverse=True,key = lambda x: x[1])\n",
    "    for i in distances[1:6]:# i is the tuple and \n",
    "        print(new_df.iloc[i[0]].title)# i[0] is the index of every tuple"
   ]
  },
  {
   "cell_type": "code",
   "execution_count": null,
   "id": "093309ea",
   "metadata": {},
   "outputs": [],
   "source": [
    "recommend('Avatar')"
   ]
  },
  {
   "cell_type": "code",
   "execution_count": null,
   "id": "ce3d0d58",
   "metadata": {},
   "outputs": [],
   "source": [
    "recommend('Batman Begins')"
   ]
  },
  {
   "cell_type": "code",
   "execution_count": null,
   "id": "6fc72c21",
   "metadata": {},
   "outputs": [],
   "source": [
    "# Save the new dataset and similarity matrix to pickle files\n",
    "import pickle\n",
    "\n",
    "pickle.dump(new_df,open('movie_list.pkl','wb'))\n",
    "pickle.dump(similarity,open('similarity.pkl','wb'))"
   ]
  }
 ],
 "metadata": {
  "kernelspec": {
   "display_name": "Python 3 (ipykernel)",
   "language": "python",
   "name": "python3"
  },
  "language_info": {
   "codemirror_mode": {
    "name": "ipython",
    "version": 3
   },
   "file_extension": ".py",
   "mimetype": "text/x-python",
   "name": "python",
   "nbconvert_exporter": "python",
   "pygments_lexer": "ipython3",
   "version": "3.10.12"
  }
 },
 "nbformat": 4,
 "nbformat_minor": 5
}
